{
 "cells": [
  {
   "cell_type": "markdown",
   "id": "12f8938e",
   "metadata": {},
   "source": [
    "### Starting with Data analysis of new charging stations data"
   ]
  },
  {
   "cell_type": "code",
   "execution_count": 2,
   "id": "f43cf5b3",
   "metadata": {},
   "outputs": [
    {
     "name": "stdout",
     "output_type": "stream",
     "text": [
      "SHAPE: (4777, 98)\n",
      "\n",
      "COLUMNS:\n",
      " ['chargeDeviceID', 'reference', 'name', 'latitude', 'longitude', 'postcode', 'countryCode', 'deviceNetworks', 'locationType', 'connector1ID', 'connector1Type', 'connector1RatedOutputKW', 'connector1OutputCurrent', 'connector1RatedVoltage', 'connector1ChargeMethod', 'connector1ChargeMode', 'connector1TetheredCable', 'connector1Status', 'connector1Description', 'connector1Validated', 'connector2ID', 'connector2Type', 'connector2RatedOutputKW', 'connector2OutputCurrent', 'connector2RatedVoltage', 'connector2ChargeMethod', 'connector2ChargeMode', 'connector2TetheredCable', 'connector2Status', 'connector2Description', 'connector2Validated', 'connector3ID', 'connector3Type', 'connector3RatedOutputKW', 'connector3OutputCurrent', 'connector3RatedVoltage', 'connector3ChargeMethod', 'connector3ChargeMode', 'connector3TetheredCable', 'connector3Status', 'connector3Description', 'connector3Validated', 'connector4ID', 'connector4Type', 'connector4RatedOutputKW', 'connector4OutputCurrent', 'connector4RatedVoltage', 'connector4ChargeMethod', 'connector4ChargeMode', 'connector4TetheredCable', 'connector4Status', 'connector4Description', 'connector4Validated', 'connector5ID', 'connector5Type', 'connector5RatedOutputKW', 'connector5OutputCurrent', 'connector5RatedVoltage', 'connector5ChargeMethod', 'connector5ChargeMode', 'connector5TetheredCable', 'connector5Status', 'connector5Description', 'connector5Validated', 'connector6ID', 'connector6Type', 'connector6RatedOutputKW', 'connector6OutputCurrent', 'connector6RatedVoltage', 'connector6ChargeMethod', 'connector6ChargeMode', 'connector6TetheredCable', 'connector6Status', 'connector6Description', 'connector6Validated', 'connector7ID', 'connector7Type', 'connector7RatedOutputKW', 'connector7OutputCurrent', 'connector7RatedVoltage', 'connector7ChargeMethod', 'connector7ChargeMode', 'connector7TetheredCable', 'connector7Status', 'connector7Description', 'connector7Validated', 'connector8ID', 'connector8Type', 'connector8RatedOutputKW', 'connector8OutputCurrent', 'connector8RatedVoltage', 'connector8ChargeMethod', 'connector8ChargeMode', 'connector8TetheredCable', 'connector8Status', 'connector8Description', 'connector8Validated', 'borough']\n",
      "\n",
      "SUMMARY STATS:\n",
      "                           chargeDeviceID reference  \\\n",
      "count                               4777      4777   \n",
      "unique                              4777      4777   \n",
      "top     68c7fca1e3bba5e49ec90847dcdd456b     CM164   \n",
      "freq                                   1         1   \n",
      "mean                                 NaN       NaN   \n",
      "std                                  NaN       NaN   \n",
      "min                                  NaN       NaN   \n",
      "25%                                  NaN       NaN   \n",
      "50%                                  NaN       NaN   \n",
      "75%                                  NaN       NaN   \n",
      "max                                  NaN       NaN   \n",
      "\n",
      "                                         name     latitude    longitude  \\\n",
      "count                                    4777  4777.000000  4777.000000   \n",
      "unique                                   3463          NaN          NaN   \n",
      "top     Q-Park Park Lane Fleet Hub, Park Lane          NaN          NaN   \n",
      "freq                                       25          NaN          NaN   \n",
      "mean                                      NaN    51.500438    -0.153725   \n",
      "std                                       NaN     0.025333     0.063726   \n",
      "min                                       NaN    51.344749    -1.493180   \n",
      "25%                                       NaN    51.486000    -0.207938   \n",
      "50%                                       NaN    51.496970    -0.154709   \n",
      "75%                                       NaN    51.517280    -0.110990   \n",
      "max                                       NaN    52.069079     0.221927   \n",
      "\n",
      "       postcode countryCode deviceNetworks locationType   connector1ID  ...  \\\n",
      "count      4777        4777           4777         4777    4777.000000  ...   \n",
      "unique     2936           1             20           11            NaN  ...   \n",
      "top     W1K 7AN          gb     ubitricity    On-street            NaN  ...   \n",
      "freq         25        4777           1810         3815            NaN  ...   \n",
      "mean        NaN         NaN            NaN          NaN  182873.743982  ...   \n",
      "std         NaN         NaN            NaN          NaN   22756.985076  ...   \n",
      "min         NaN         NaN            NaN          NaN    6592.000000  ...   \n",
      "25%         NaN         NaN            NaN          NaN  171231.000000  ...   \n",
      "50%         NaN         NaN            NaN          NaN  188741.000000  ...   \n",
      "75%         NaN         NaN            NaN          NaN  192139.000000  ...   \n",
      "max         NaN         NaN            NaN          NaN  221230.000000  ...   \n",
      "\n",
      "       connector8RatedOutputKW  connector8OutputCurrent  \\\n",
      "count                 3.000000                      3.0   \n",
      "unique                     NaN                      NaN   \n",
      "top                        NaN                      NaN   \n",
      "freq                       NaN                      NaN   \n",
      "mean                158.333333                    375.0   \n",
      "std                  14.433757                      0.0   \n",
      "min                 150.000000                    375.0   \n",
      "25%                 150.000000                    375.0   \n",
      "50%                 150.000000                    375.0   \n",
      "75%                 162.500000                    375.0   \n",
      "max                 175.000000                    375.0   \n",
      "\n",
      "        connector8RatedVoltage  connector8ChargeMethod connector8ChargeMode  \\\n",
      "count                 3.000000                       3                  3.0   \n",
      "unique                     NaN                       1                  NaN   \n",
      "top                        NaN                      DC                  NaN   \n",
      "freq                       NaN                       3                  NaN   \n",
      "mean                576.666667                     NaN                  4.0   \n",
      "std                 305.995643                     NaN                  0.0   \n",
      "min                 400.000000                     NaN                  4.0   \n",
      "25%                 400.000000                     NaN                  4.0   \n",
      "50%                 400.000000                     NaN                  4.0   \n",
      "75%                 665.000000                     NaN                  4.0   \n",
      "max                 930.000000                     NaN                  4.0   \n",
      "\n",
      "        connector8TetheredCable  connector8Status connector8Description  \\\n",
      "count                       3.0                 3                   0.0   \n",
      "unique                      NaN                 1                   NaN   \n",
      "top                         NaN        In service                   NaN   \n",
      "freq                        NaN                 3                   NaN   \n",
      "mean                        1.0               NaN                   NaN   \n",
      "std                         0.0               NaN                   NaN   \n",
      "min                         1.0               NaN                   NaN   \n",
      "25%                         1.0               NaN                   NaN   \n",
      "50%                         1.0               NaN                   NaN   \n",
      "75%                         1.0               NaN                   NaN   \n",
      "max                         1.0               NaN                   NaN   \n",
      "\n",
      "        connector8Validated                 borough  \n",
      "count                   3.0                    4777  \n",
      "unique                  NaN                       9  \n",
      "top                     NaN  hammersmith and fulham  \n",
      "freq                    NaN                    1840  \n",
      "mean                    0.0                     NaN  \n",
      "std                     0.0                     NaN  \n",
      "min                     0.0                     NaN  \n",
      "25%                     0.0                     NaN  \n",
      "50%                     0.0                     NaN  \n",
      "75%                     0.0                     NaN  \n",
      "max                     0.0                     NaN  \n",
      "\n",
      "[11 rows x 98 columns]\n",
      "\n",
      "NULL VALUES:\n",
      " chargeDeviceID                0\n",
      "reference                     0\n",
      "name                          0\n",
      "latitude                      0\n",
      "longitude                     0\n",
      "                           ... \n",
      "connector8TetheredCable    4774\n",
      "connector8Status           4774\n",
      "connector8Description      4777\n",
      "connector8Validated        4774\n",
      "borough                       0\n",
      "Length: 98, dtype: int64\n"
     ]
    }
   ],
   "source": [
    "import pandas as pd\n",
    "\n",
    "# Load your new dataset\n",
    "df_stations = pd.read_csv(\"chargingStations.csv\")\n",
    "\n",
    "# Basic info\n",
    "print(\"SHAPE:\", df_stations.shape)\n",
    "print(\"\\nCOLUMNS:\\n\", df_stations.columns.tolist())\n",
    "print(\"\\nSUMMARY STATS:\\n\", df_stations.describe(include='all'))\n",
    "print(\"\\nNULL VALUES:\\n\", df_stations.isnull().sum())\n"
   ]
  },
  {
   "cell_type": "markdown",
   "id": "6607f1f1",
   "metadata": {},
   "source": [
    "### For ChargePoint Network Bv Netherlands (might change it to qwello) 20 values"
   ]
  },
  {
   "cell_type": "code",
   "execution_count": 9,
   "id": "967ac0a2",
   "metadata": {},
   "outputs": [
    {
     "name": "stdout",
     "output_type": "stream",
     "text": [
      "        town          county deviceOwnerName  \\\n",
      "4151  London  Greater London       *No Owner   \n",
      "4152  London  Greater London       *No Owner   \n",
      "4153  London  Greater London       *No Owner   \n",
      "4154  London  Greater London       *No Owner   \n",
      "4155  London  Greater London       *No Owner   \n",
      "4156  London  Greater London       *No Owner   \n",
      "4157  London  Greater London       *No Owner   \n",
      "4158  London  Greater London       *No Owner   \n",
      "4159  London  Greater London       *No Owner   \n",
      "4160  London  Greater London       *No Owner   \n",
      "4161  London  Greater London       *No Owner   \n",
      "4162  London  Greater London       *No Owner   \n",
      "4163  London  Greater London       *No Owner   \n",
      "4164  London  Greater London       *No Owner   \n",
      "4165  London  Greater London       *No Owner   \n",
      "4166  London  Greater London       *No Owner   \n",
      "4167  London  Greater London       *No Owner   \n",
      "4168  London  Greater London       *No Owner   \n",
      "4169  London  Greater London       *No Owner   \n",
      "4170  London  Greater London       *No Owner   \n",
      "\n",
      "                                 attribution        borough  \n",
      "4151  ChargePoint Network (Netherlands) B.V.        lambeth  \n",
      "4152  ChargePoint Network (Netherlands) B.V.    westminster  \n",
      "4153  ChargePoint Network (Netherlands) B.V.        lambeth  \n",
      "4154  ChargePoint Network (Netherlands) B.V.    westminster  \n",
      "4155  ChargePoint Network (Netherlands) B.V.  tower hamlets  \n",
      "4156  ChargePoint Network (Netherlands) B.V.  tower hamlets  \n",
      "4157  ChargePoint Network (Netherlands) B.V.        lambeth  \n",
      "4158  ChargePoint Network (Netherlands) B.V.        lambeth  \n",
      "4159  ChargePoint Network (Netherlands) B.V.    westminster  \n",
      "4160  ChargePoint Network (Netherlands) B.V.    westminster  \n",
      "4161  ChargePoint Network (Netherlands) B.V.  tower hamlets  \n",
      "4162  ChargePoint Network (Netherlands) B.V.  tower hamlets  \n",
      "4163  ChargePoint Network (Netherlands) B.V.        lambeth  \n",
      "4164  ChargePoint Network (Netherlands) B.V.        lambeth  \n",
      "4165  ChargePoint Network (Netherlands) B.V.        lambeth  \n",
      "4166  ChargePoint Network (Netherlands) B.V.        lambeth  \n",
      "4167  ChargePoint Network (Netherlands) B.V.        lambeth  \n",
      "4168  ChargePoint Network (Netherlands) B.V.        lambeth  \n",
      "4169  ChargePoint Network (Netherlands) B.V.         camden  \n",
      "4170  ChargePoint Network (Netherlands) B.V.         camden  \n"
     ]
    }
   ],
   "source": [
    "# Filter rows where device network matches\n",
    "filtered = df_stations[df_stations['deviceNetworks'] == \"ChargePoint Network (Netherlands) B.V.\"]\n",
    "\n",
    "# Select only specific columns\n",
    "result = filtered[[\"town\", \"county\", \"deviceOwnerName\", \"attribution\",\"borough\"]]\n",
    "\n",
    "# Display the result\n",
    "print(result)"
   ]
  },
  {
   "cell_type": "markdown",
   "id": "8f34c8fc",
   "metadata": {},
   "source": [
    "### For Drax Energy Solutions Limited 6 values"
   ]
  },
  {
   "cell_type": "code",
   "execution_count": 10,
   "id": "3e562525",
   "metadata": {},
   "outputs": [
    {
     "name": "stdout",
     "output_type": "stream",
     "text": [
      "          town          county        deviceOwnerName  \\\n",
      "2597    London  Greater London  Ista Energy Solutions   \n",
      "2598    London  Greater London  Ista Energy Solutions   \n",
      "2599    London  Greater London  Ista Energy Solutions   \n",
      "2600  Bankside  Greater London  Ista Energy Solutions   \n",
      "2601   London          London   Ista Energy Solutions   \n",
      "2602   London          London   Ista Energy Solutions   \n",
      "\n",
      "                        attribution                 borough  \n",
      "2597  Drax Energy Solutions Limited  hammersmith and fulham  \n",
      "2598  Drax Energy Solutions Limited  hammersmith and fulham  \n",
      "2599  Drax Energy Solutions Limited                 lambeth  \n",
      "2600  Drax Energy Solutions Limited                 lambeth  \n",
      "2601  Drax Energy Solutions Limited                 lambeth  \n",
      "2602  Drax Energy Solutions Limited                 lambeth  \n"
     ]
    }
   ],
   "source": [
    "# Filter rows where device network matches\n",
    "filtered = df_stations[df_stations['deviceNetworks'] == \"Drax Energy Solutions Limited\"]\n",
    "\n",
    "# Select only specific columns\n",
    "result = filtered[[\"town\", \"county\", \"deviceOwnerName\", \"attribution\",\"borough\"]]\n",
    "\n",
    "# Display the result\n",
    "print(result)"
   ]
  },
  {
   "cell_type": "markdown",
   "id": "b273de14",
   "metadata": {},
   "source": [
    "### For E.ON Drive its camden so whatever chargers are most in camden we will change the values to that."
   ]
  },
  {
   "cell_type": "code",
   "execution_count": null,
   "id": "26c31741",
   "metadata": {},
   "outputs": [
    {
     "name": "stdout",
     "output_type": "stream",
     "text": [
      "               town  county deviceOwnerName attribution borough\n",
      "2333  Charing Cross  London      E.ON Drive  E.ON Drive  camden\n"
     ]
    }
   ],
   "source": [
    "# Filter rows where device network matches\n",
    "filtered = df_stations[df_stations['deviceNetworks'] == \"E.ON Drive\"]\n",
    "\n",
    "# Select only specific columns\n",
    "result = filtered[[\"town\", \"county\", \"deviceOwnerName\", \"attribution\",\"borough\"]]\n",
    "\n",
    "# Display the result\n",
    "print(result)"
   ]
  },
  {
   "cell_type": "markdown",
   "id": "e1a8dcdb",
   "metadata": {},
   "source": [
    "### For London Borough of Hackney\ttower hamlets whatever is highest"
   ]
  },
  {
   "cell_type": "code",
   "execution_count": 13,
   "id": "8ec44c1d",
   "metadata": {},
   "outputs": [
    {
     "name": "stdout",
     "output_type": "stream",
     "text": [
      "             town          county      deviceOwnerName  \\\n",
      "67  Bethnal Green  Greater London  Equans EV Solutions   \n",
      "\n",
      "                  attribution        borough  \n",
      "67  London Borough of Hackney  tower hamlets  \n"
     ]
    }
   ],
   "source": [
    "# Filter rows where device network matches\n",
    "filtered = df_stations[df_stations['deviceNetworks'] == \"London Borough of Hackney\"]\n",
    "\n",
    "# Select only specific columns\n",
    "result = filtered[[\"town\", \"county\", \"deviceOwnerName\", \"attribution\",\"borough\"]]\n",
    "\n",
    "# Display the result\n",
    "print(result)"
   ]
  },
  {
   "cell_type": "markdown",
   "id": "bac1e2e2",
   "metadata": {},
   "source": [
    "### Deleting the charging stations where their pricings couldnt be found"
   ]
  },
  {
   "cell_type": "code",
   "execution_count": null,
   "id": "d0406f3a",
   "metadata": {},
   "outputs": [],
   "source": [
    "# Define networks to remove\n",
    "networks_to_remove = [\"London Borough of Hackney\", \"E.ON Drive\",\"Drax Energy Solutions Limited\",\"ChargePoint Network (Netherlands) B.V.\"]\n",
    "\n",
    "# Filter out rows with those device networks\n",
    "df_stations_cleaned = df_stations[~df_stations[\"deviceNetworks\"].isin(networks_to_remove)].copy()\n",
    "\n",
    "# Save the cleaned dataset\n",
    "df_stations_cleaned.to_csv(\"chargingStations.csv\", index=False)"
   ]
  },
  {
   "cell_type": "markdown",
   "id": "f9199dea",
   "metadata": {},
   "source": [
    "### As per online information Charge Your Car and BP Pulse Polar are both BP Pulse now"
   ]
  },
  {
   "cell_type": "code",
   "execution_count": null,
   "id": "1b99e0d2",
   "metadata": {},
   "outputs": [],
   "source": [
    "# Replace specified names\n",
    "df_stations['deviceNetworks'] = df_stations['deviceNetworks'].replace({\n",
    "    \"Charge Your Car\": \"BP Pulse\",\n",
    "    \"BP-Pulse (POLAR)\": \"BP Pulse\"\n",
    "})\n",
    "\n",
    "# Save the updated dataset\n",
    "df_stations.to_csv(\"chargingStations.csv\", index=False)"
   ]
  },
  {
   "cell_type": "markdown",
   "id": "a3bf1e5b",
   "metadata": {},
   "source": [
    "### Shell Recharge solutions was found to be a private charging so we are removing them"
   ]
  },
  {
   "cell_type": "code",
   "execution_count": null,
   "id": "1e0db77b",
   "metadata": {},
   "outputs": [],
   "source": [
    "# Define networks to remove\n",
    "networks_to_remove = [\"Shell Recharge Solutions\"]\n",
    "\n",
    "# Filter out rows with those device networks\n",
    "df_stations_cleaned = df_stations[~df_stations[\"deviceNetworks\"].isin(networks_to_remove)].copy()\n",
    "\n",
    "# Save the cleaned dataset\n",
    "df_stations_cleaned.to_csv(\"chargingStations.csv\", index=False)"
   ]
  },
  {
   "cell_type": "markdown",
   "id": "9af46646",
   "metadata": {},
   "source": [
    "### Now lets clean the dataset to get our desired columns"
   ]
  },
  {
   "cell_type": "code",
   "execution_count": 8,
   "id": "45c75533",
   "metadata": {},
   "outputs": [],
   "source": [
    "df = pd.read_csv(\"chargingStations.csv\")"
   ]
  },
  {
   "cell_type": "code",
   "execution_count": 4,
   "id": "37ca9e5a",
   "metadata": {},
   "outputs": [
    {
     "name": "stdout",
     "output_type": "stream",
     "text": [
      "Dropped empty columns: ['connector1Description', 'connector2Description', 'connector3Description', 'connector4Description', 'connector5Description', 'connector6Description', 'connector7Description', 'connector8Description']\n"
     ]
    }
   ],
   "source": [
    "# Drop all columns where *every* value is NaN\n",
    "df_cleaned = df.dropna(axis=1, how='all')\n",
    "dropped_cols = df.columns.difference(df_cleaned.columns)\n",
    "print(\"Dropped empty columns:\", dropped_cols.tolist())"
   ]
  },
  {
   "cell_type": "markdown",
   "id": "6624d0c1",
   "metadata": {},
   "source": [
    "### Removing redundant or not needed columns from dataset regarding connectors"
   ]
  },
  {
   "cell_type": "code",
   "execution_count": 9,
   "id": "947adb33",
   "metadata": {},
   "outputs": [],
   "source": [
    "connector_cols_to_keep = []\n",
    "\n",
    "for i in range(1, 9):\n",
    "    connector_cols_to_keep += [\n",
    "        f'connector{i}Type',\n",
    "        f'connector{i}RatedOutputKW',\n",
    "        f'connector{i}ChargeMethod',\n",
    "        f'connector{i}Status'\n",
    "    ]\n",
    "\n",
    "# Get all connector-related columns\n",
    "all_connector_cols = [col for col in df.columns if col.startswith('connector')]\n",
    "\n",
    "# Drop only those not in the keep list\n",
    "connector_cols_to_drop = list(set(all_connector_cols) - set(connector_cols_to_keep))\n",
    "\n",
    "# Drop and save\n",
    "df.drop(columns=connector_cols_to_drop, inplace=True)\n",
    "df.to_csv(\"chargingStations.csv\", index=False)\n"
   ]
  }
 ],
 "metadata": {
  "kernelspec": {
   "display_name": "Python 3",
   "language": "python",
   "name": "python3"
  },
  "language_info": {
   "codemirror_mode": {
    "name": "ipython",
    "version": 3
   },
   "file_extension": ".py",
   "mimetype": "text/x-python",
   "name": "python",
   "nbconvert_exporter": "python",
   "pygments_lexer": "ipython3",
   "version": "3.12.10"
  }
 },
 "nbformat": 4,
 "nbformat_minor": 5
}
